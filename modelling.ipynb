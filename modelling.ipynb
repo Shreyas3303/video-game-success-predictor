{
 "cells": [
  {
   "cell_type": "markdown",
   "metadata": {},
   "source": [
    "# Video Game Success Analysis\n",
    "\n",
    "This notebook analyzes the extended video game dataset to understand factors contributing to game success."
   ]
  },
  {
   "cell_type": "code",
   "execution_count": 1,
   "metadata": {},
   "outputs": [],
   "source": [
    "# Import necessary libraries\n",
    "import pandas as pd\n",
    "import numpy as np\n",
    "import matplotlib.pyplot as plt\n",
    "import seaborn as sns\n",
    "from datetime import datetime\n",
    "\n",
    "# Set up plotting style\n",
    "plt.style.use('seaborn-v0_8')\n",
    "sns.set_theme()\n",
    "\n",
    "# Set display options for better readability\n",
    "pd.set_option('display.max_columns', None)\n",
    "pd.set_option('display.max_rows', 100)\n",
    "pd.set_option('display.width', 1000)"
   ]
  },
  {
   "cell_type": "markdown",
   "metadata": {},
   "source": [
    "## Load and Explore the Data"
   ]
  },
  {
   "cell_type": "code",
   "execution_count": null,
   "metadata": {},
   "outputs": [],
   "source": [
    "# Read the extended data\n",
    "df = pd.read_csv('games_expanded.csv')\n",
    "\n",
    "# Display basic information about the dataset\n",
    "print(\"Dataset Info:\")\n",
    "df.info()"
   ]
  },
  {
   "cell_type": "code",
   "execution_count": null,
   "metadata": {},
   "outputs": [],
   "source": [
    "# Display the first few rows\n",
    "df.head()"
   ]
  },
  {
   "cell_type": "markdown",
   "metadata": {},
   "source": [
    "## Data Quality Check"
   ]
  },
  {
   "cell_type": "code",
   "execution_count": null,
   "metadata": {},
   "outputs": [],
   "source": [
    "# Check for missing values\n",
    "missing_values = df.isnull().sum()\n",
    "missing_percentage = (missing_values / len(df)) * 100\n",
    "\n",
    "missing_data = pd.DataFrame({\n",
    "    'Missing Values': missing_values,\n",
    "    'Percentage': missing_percentage\n",
    "})\n",
    "\n",
    "missing_data[missing_data['Missing Values'] > 0].sort_values('Missing Values', ascending=False)"
   ]
  },
  {
   "cell_type": "markdown",
   "metadata": {},
   "source": [
    "## Game Success Metrics Analysis"
   ]
  },
  {
   "cell_type": "code",
   "execution_count": null,
   "metadata": {},
   "outputs": [],
   "source": [
    "# Analyze rating distribution\n",
    "plt.figure(figsize=(12, 6))\n",
    "sns.histplot(data=df, x='rating', bins=30)\n",
    "plt.title('Distribution of Game Ratings')\n",
    "plt.xlabel('Rating')\n",
    "plt.ylabel('Count')\n",
    "plt.show()\n",
    "\n",
    "# Top rated games\n",
    "print(\"\\nTop 10 Highest Rated Games:\")\n",
    "df.nlargest(10, 'rating')[['name', 'rating', 'rating_count']]"
   ]
  },
  {
   "cell_type": "markdown",
   "metadata": {},
   "source": [
    "## Genre Analysis"
   ]
  },
  {
   "cell_type": "code",
   "execution_count": null,
   "metadata": {},
   "outputs": [],
   "source": [
    "# Analyze genres\n",
    "genre_counts = df['genres'].str.split(',').explode().str.strip().value_counts()\n",
    "\n",
    "plt.figure(figsize=(15, 8))\n",
    "genre_counts.head(15).plot(kind='bar')\n",
    "plt.title('Top 15 Most Common Game Genres')\n",
    "plt.xlabel('Genre')\n",
    "plt.ylabel('Count')\n",
    "plt.xticks(rotation=45, ha='right')\n",
    "plt.tight_layout()\n",
    "plt.show()\n",
    "\n",
    "# Average rating by genre\n",
    "genre_ratings = df.explode('genres').groupby('genres')['rating'].agg(['mean', 'count'])\n",
    "genre_ratings = genre_ratings[genre_ratings['count'] > 50]  # Filter genres with sufficient data\n",
    "genre_ratings.sort_values('mean', ascending=False).head(10)"
   ]
  },
  {
   "cell_type": "markdown",
   "metadata": {},
   "source": [
    "## Platform Analysis"
   ]
  },
  {
   "cell_type": "code",
   "execution_count": null,
   "metadata": {},
   "outputs": [],
   "source": [
    "# Analyze platforms\n",
    "platform_counts = df['platforms'].str.split(',').explode().str.strip().value_counts()\n",
    "\n",
    "plt.figure(figsize=(15, 8))\n",
    "platform_counts.head(15).plot(kind='bar')\n",
    "plt.title('Top 15 Most Common Platforms')\n",
    "plt.xlabel('Platform')\n",
    "plt.ylabel('Count')\n",
    "plt.xticks(rotation=45, ha='right')\n",
    "plt.tight_layout()\n",
    "plt.show()\n",
    "\n",
    "# Average rating by platform\n",
    "platform_ratings = df.explode('platforms').groupby('platforms')['rating'].agg(['mean', 'count'])\n",
    "platform_ratings = platform_ratings[platform_ratings['count'] > 50]  # Filter platforms with sufficient data\n",
    "platform_ratings.sort_values('mean', ascending=False).head(10)"
   ]
  },
  {
   "cell_type": "markdown",
   "metadata": {},
   "source": [
    "## Release Year Analysis"
   ]
  },
  {
   "cell_type": "code",
   "execution_count": null,
   "metadata": {},
   "outputs": [],
   "source": [
    "# Convert release date to datetime and extract year\n",
    "df['release_year'] = pd.to_datetime(df['first_release_date'], unit='s').dt.year\n",
    "\n",
    "# Games released per year\n",
    "plt.figure(figsize=(15, 6))\n",
    "df['release_year'].value_counts().sort_index().plot(kind='line')\n",
    "plt.title('Number of Games Released per Year')\n",
    "plt.xlabel('Year')\n",
    "plt.ylabel('Number of Games')\n",
    "plt.grid(True)\n",
    "plt.show()\n",
    "\n",
    "# Average rating by year\n",
    "yearly_ratings = df.groupby('release_year')['rating'].agg(['mean', 'count'])\n",
    "yearly_ratings = yearly_ratings[yearly_ratings['count'] > 50]  # Filter years with sufficient data\n",
    "\n",
    "plt.figure(figsize=(15, 6))\n",
    "yearly_ratings['mean'].plot(kind='line')\n",
    "plt.title('Average Game Rating by Release Year')\n",
    "plt.xlabel('Year')\n",
    "plt.ylabel('Average Rating')\n",
    "plt.grid(True)\n",
    "plt.show()"
   ]
  },
  {
   "cell_type": "markdown",
   "metadata": {},
   "source": [
    "## Correlation Analysis"
   ]
  },
  {
   "cell_type": "code",
   "execution_count": null,
   "metadata": {},
   "outputs": [],
   "source": [
    "# Select numerical columns for correlation analysis\n",
    "numerical_cols = df.select_dtypes(include=[np.number]).columns\n",
    "\n",
    "# Create correlation matrix\n",
    "plt.figure(figsize=(12, 8))\n",
    "correlation_matrix = df[numerical_cols].corr()\n",
    "sns.heatmap(correlation_matrix, annot=True, cmap='coolwarm', center=0)\n",
    "plt.title('Correlation Matrix of Numerical Features')\n",
    "plt.tight_layout()\n",
    "plt.show()"
   ]
  },
  {
   "cell_type": "markdown",
   "metadata": {},
   "source": [
    "## Feature Engineering for Prediction"
   ]
  },
  {
   "cell_type": "code",
   "execution_count": 30,
   "metadata": {},
   "outputs": [
    {
     "name": "stdout",
     "output_type": "stream",
     "text": [
      "Shape of df: (25621, 23)\n",
      "Shape of genre_dummies: (25621, 44)\n",
      "Shape of platform_dummies: (25621, 134)\n",
      "\n",
      "Final shapes:\n",
      "X shape: (25621, 182)\n",
      "y shape: (25621,)\n",
      "R2 Score: 0.191\n",
      "Root Mean Squared Error: 12.575\n"
     ]
    }
   ],
   "source": [
    "# Handle missing values\n",
    "df['hypes'] = df['hypes'].fillna(0)  # Fill missing values with 0\n",
    "df['has_hypes'] = (df['hypes'] > 0).astype(int)  # Create binary feature for hypes presence\n",
    "df['rating_count'] = df['rating_count'].fillna(0)  # Fill missing rating counts with 0\n",
    "df['total_rating_count'] = df['total_rating_count'].fillna(0)  # Fill missing total rating counts with 0\n",
    "\n",
    "# Remove rows where rating (target variable) is NaN\n",
    "df = df.dropna(subset=['rating'])\n",
    "\n",
    "# Prepare genre features\n",
    "genre_dummies = df['genres'].str.get_dummies(',')\n",
    "\n",
    "# Prepare platform features\n",
    "platform_dummies = df['platforms'].str.get_dummies(',')\n",
    "\n",
    "# Print shapes to debug\n",
    "print(\"Shape of df:\", df.shape)\n",
    "print(\"Shape of genre_dummies:\", genre_dummies.shape)\n",
    "print(\"Shape of platform_dummies:\", platform_dummies.shape)\n",
    "\n",
    "# Combine features\n",
    "feature_cols = ['rating_count', 'hypes', 'has_hypes', 'total_rating_count']\n",
    "X = pd.concat([\n",
    "    df[feature_cols],\n",
    "    genre_dummies,\n",
    "    platform_dummies\n",
    "], axis=1)\n",
    "\n",
    "# Target variable\n",
    "y = df['rating']\n",
    "\n",
    "# Print final shapes\n",
    "print(\"\\nFinal shapes:\")\n",
    "print(\"X shape:\", X.shape)\n",
    "print(\"y shape:\", y.shape)\n",
    "\n",
    "# Split the data\n",
    "X_train, X_test, y_train, y_test = train_test_split(X, y, test_size=0.2, random_state=42)\n",
    "\n",
    "# Train a Random Forest model\n",
    "rf_model = RandomForestRegressor(n_estimators=100, random_state=42)\n",
    "rf_model.fit(X_train, y_train)\n",
    "\n",
    "# Make predictions\n",
    "y_pred = rf_model.predict(X_test)\n",
    "\n",
    "# Evaluate the model\n",
    "print(f'R2 Score: {r2_score(y_test, y_pred):.3f}')\n",
    "print(f'Root Mean Squared Error: {np.sqrt(mean_squared_error(y_test, y_pred)):.3f}')"
   ]
  },
  {
   "cell_type": "markdown",
   "metadata": {},
   "source": [
    "## Genre and Platform Impact Analysis"
   ]
  },
  {
   "cell_type": "code",
   "execution_count": null,
   "metadata": {},
   "outputs": [],
   "source": [
    "# Analyze impact of genre combinations\n",
    "genre_combinations = df['genres'].str.split(',').apply(lambda x: tuple(sorted(x)) if isinstance(x, list) else x)\n",
    "genre_comb_ratings = df.groupby(genre_combinations)['rating'].agg(['mean', 'count'])\n",
    "genre_comb_ratings = genre_comb_ratings[genre_comb_ratings['count'] > 20]  # Filter for sufficient data\n",
    "print(\"\\nTop 10 Genre Combinations by Average Rating:\")\n",
    "print(genre_comb_ratings.sort_values('mean', ascending=False).head(10))\n",
    "## Could maybe explore what the best genres for indie games are\n",
    "    \n",
    "\n",
    "# Analyze platform combinations\n",
    "platform_combinations = df['platforms'].str.split(',').apply(lambda x: tuple(sorted(x)) if isinstance(x, list) else x)\n",
    "platform_comb_ratings = df.groupby(platform_combinations)['rating'].agg(['mean', 'count'])\n",
    "platform_comb_ratings = platform_comb_ratings[platform_comb_ratings['count'] > 20]\n",
    "print(\"\\nTop 10 Platform Combinations by Average Rating:\")\n",
    "print(platform_comb_ratings.sort_values('mean', ascending=False).head(10))"
   ]
  },
  {
   "cell_type": "markdown",
   "metadata": {},
   "source": [
    "## Temporal Analysis of Rating Patterns"
   ]
  },
  {
   "cell_type": "code",
   "execution_count": null,
   "metadata": {},
   "outputs": [],
   "source": [
    "# Analyze rating trends over time\n",
    "df['release_year'] = pd.to_datetime(df['first_release_date'], unit='s').dt.year\n",
    "\n",
    "# Calculate yearly statistics\n",
    "yearly_stats = df.groupby('release_year').agg({\n",
    "    'rating': ['mean', 'std', 'count'],\n",
    "    'rating_count': 'mean',\n",
    "    'hypes': 'mean'\n",
    "})\n",
    "\n",
    "# Plot rating trends\n",
    "plt.figure(figsize=(15, 8))\n",
    "plt.plot(yearly_stats.index, yearly_stats[('rating', 'mean')], label='Average Rating')\n",
    "plt.fill_between(yearly_stats.index,\n",
    "                 yearly_stats[('rating', 'mean')] - yearly_stats[('rating', 'std')],\n",
    "                 yearly_stats[('rating', 'mean')] + yearly_stats[('rating', 'std')],\n",
    "                 alpha=0.2)\n",
    "plt.title('Game Rating Trends Over Time')\n",
    "plt.xlabel('Release Year')\n",
    "plt.ylabel('Average Rating')\n",
    "plt.legend()\n",
    "plt.grid(True)\n",
    "plt.show()\n",
    "\n",
    "# Analyze correlation between engagement metrics and ratings\n",
    "engagement_metrics = ['rating_count', 'hypes']\n",
    "plt.figure(figsize=(12, 6))\n",
    "sns.heatmap(df[engagement_metrics + ['rating']].corr(), annot=True, cmap='coolwarm')\n",
    "plt.title('Correlation between Engagement Metrics and Ratings')\n",
    "plt.show()"
   ]
  },
  {
   "cell_type": "markdown",
   "metadata": {},
   "source": [
    "## Advanced Feature Analysis"
   ]
  },
  {
   "cell_type": "code",
   "execution_count": null,
   "metadata": {},
   "outputs": [],
   "source": [
    "# Analyze rating distribution by different features\n",
    "fig, axes = plt.subplots(2, 2, figsize=(15, 12))\n",
    "\n",
    "# Rating vs Rating Count\n",
    "sns.scatterplot(data=df, x='rating_count', y='rating', alpha=0.5, ax=axes[0,0])\n",
    "axes[0,0].set_title('Rating vs Number of Ratings')\n",
    "\n",
    "# Rating vs Hypes\n",
    "sns.scatterplot(data=df, x='hypes', y='rating', alpha=0.5, ax=axes[1,0])\n",
    "axes[1,0].set_title('Rating vs Number of Hypes')\n",
    "\n",
    "# Rating vs Total Rating Count\n",
    "sns.scatterplot(data=df, x='total_rating_count', y='rating', alpha=0.5, ax=axes[1,1])\n",
    "axes[1,1].set_title('Rating vs Total Rating Count')\n",
    "\n",
    "plt.tight_layout()\n",
    "plt.show()\n",
    "\n",
    "# Calculate correlation coefficients\n",
    "correlation_features = ['rating', 'rating_count', 'hypes', 'total_rating_count']\n",
    "correlation_matrix = df[correlation_features].corr()\n",
    "print(\"\\nCorrelation Matrix:\")\n",
    "print(correlation_matrix['rating'].sort_values(ascending=False))"
   ]
  },
  {
   "cell_type": "markdown",
   "metadata": {},
   "source": [
    "## Advanced Modeling Techniques"
   ]
  },
  {
   "cell_type": "code",
   "execution_count": 24,
   "metadata": {},
   "outputs": [],
   "source": [
    "# Import additional libraries for advanced modeling\n",
    "from sklearn.model_selection import GridSearchCV, cross_val_score\n",
    "from sklearn.preprocessing import StandardScaler\n",
    "from xgboost import XGBRegressor\n",
    "from lightgbm import LGBMRegressor\n",
    "from sklearn.neural_network import MLPRegressor\n",
    "from sklearn.pipeline import Pipeline\n",
    "\n",
    "# Create a pipeline with scaling\n",
    "pipeline = Pipeline([\n",
    "    ('scaler', StandardScaler()),\n",
    "    ('model', None)  # Will be set for each model\n",
    "])"
   ]
  },
  {
   "cell_type": "markdown",
   "metadata": {},
   "source": [
    "## Data Cleaning"
   ]
  },
  {
   "cell_type": "code",
   "execution_count": null,
   "metadata": {},
   "outputs": [],
   "source": [
    "# Data Cleaning and Preprocessing Cell\n",
    "\n",
    "# 1. Handle missing values\n",
    "print(\"Handling missing values...\")\n",
    "df['hypes'] = df['hypes'].fillna(0)  # Fill missing values with 0\n",
    "df['has_hypes'] = (df['hypes'] > 0).astype(int)  # Create binary feature for hypes presence\n",
    "df['rating_count'] = df['rating_count'].fillna(0)  # Fill missing rating counts with 0\n",
    "df['total_rating_count'] = df['total_rating_count'].fillna(0)  # Fill missing total rating counts with 0\n",
    "\n",
    "# 2. Remove rows where rating (target variable) is NaN\n",
    "print(\"Removing rows with missing target values...\")\n",
    "df = df.dropna(subset=['rating'])\n",
    "\n",
    "# 3. Prepare genre features\n",
    "print(\"Creating genre dummies...\")\n",
    "genre_dummies = df['genres'].str.get_dummies(',')\n",
    "\n",
    "# 4. Prepare platform features\n",
    "print(\"Creating platform dummies...\")\n",
    "platform_dummies = df['platforms'].str.get_dummies(',')\n",
    "\n",
    "# 5. Print shapes to debug\n",
    "print(\"\\nData shapes:\")\n",
    "print(\"Shape of df:\", df.shape)\n",
    "print(\"Shape of genre_dummies:\", genre_dummies.shape)\n",
    "print(\"Shape of platform_dummies:\", platform_dummies.shape)\n",
    "\n",
    "# 6. Combine features\n",
    "print(\"\\nCombining features...\")\n",
    "feature_cols = ['rating_count', 'hypes', 'has_hypes', 'total_rating_count']\n",
    "X = pd.concat([\n",
    "    df[feature_cols],\n",
    "    genre_dummies,\n",
    "    platform_dummies\n",
    "], axis=1)\n",
    "\n",
    "# 7. Check for duplicate features\n",
    "print(\"\\nChecking for duplicate features...\")\n",
    "print(\"Number of features before removing duplicates:\", X.shape[1])\n",
    "duplicate_cols = X.columns[X.columns.duplicated()]\n",
    "if len(duplicate_cols) > 0:\n",
    "    print(\"Duplicate features found:\", duplicate_cols.tolist())\n",
    "    # Remove duplicate features\n",
    "    X = X.loc[:, ~X.columns.duplicated()]\n",
    "    print(\"Number of features after removing duplicates:\", X.shape[1])\n",
    "\n",
    "# 8. Target variable\n",
    "y = df['rating']\n",
    "\n",
    "# 9. Print final shapes\n",
    "print(\"\\nFinal data shapes:\")\n",
    "print(\"X shape:\", X.shape)\n",
    "print(\"y shape:\", y.shape)\n",
    "\n",
    "# 10. Split the data\n",
    "print(\"\\nSplitting data into train and test sets...\")\n",
    "X_train, X_test, y_train, y_test = train_test_split(X, y, test_size=0.2, random_state=42)\n",
    "print(\"Training set shape:\", X_train.shape)\n",
    "print(\"Test set shape:\", X_test.shape)\n",
    "\n",
    "# 11. Create pipeline with scaling\n",
    "print(\"\\nCreating preprocessing pipeline...\")\n",
    "pipeline = Pipeline([\n",
    "    ('scaler', StandardScaler()),\n",
    "    ('model', None)  # Will be set for each model\n",
    "])\n",
    "\n",
    "print(\"\\nData cleaning and preprocessing complete! Ready for model training.\")"
   ]
  },
  {
   "cell_type": "markdown",
   "metadata": {},
   "source": [
    "### XGBoost Model with Hyperparameter Tuning"
   ]
  },
  {
   "cell_type": "code",
   "execution_count": null,
   "metadata": {},
   "outputs": [],
   "source": [
    "# XGBoost Model Cell\n",
    "print(\"Training XGBoost model...\")\n",
    "xgb_params = {\n",
    "    'model': [XGBRegressor(\n",
    "        n_estimators=100,\n",
    "        learning_rate=0.1,\n",
    "        max_depth=5,\n",
    "        random_state=42,\n",
    "        n_jobs=-1\n",
    "    )]\n",
    "}\n",
    "\n",
    "xgb_grid = GridSearchCV(\n",
    "    pipeline,\n",
    "    xgb_params,\n",
    "    cv=3,\n",
    "    scoring='r2',\n",
    "    n_jobs=-1,\n",
    "    verbose=1\n",
    ")\n",
    "\n",
    "xgb_grid.fit(X_train, y_train)\n",
    "print(f\"Best XGBoost parameters: {xgb_grid.best_params_}\")\n",
    "print(f\"Best XGBoost cross-validation score: {xgb_grid.best_score_:.3f}\")\n",
    "\n",
    "# Evaluate on test set\n",
    "xgb_pred = xgb_grid.predict(X_test)\n",
    "print(f\"XGBoost test set R2 score: {r2_score(y_test, xgb_pred):.3f}\")\n",
    "print(f\"XGBoost test set RMSE: {np.sqrt(mean_squared_error(y_test, xgb_pred)):.3f}\")\n",
    "\n",
    "# Feature importance\n",
    "xgb_importance = pd.DataFrame({\n",
    "    'feature': X.columns,\n",
    "    'importance': xgb_grid.best_estimator_.named_steps['model'].feature_importances_\n",
    "})\n",
    "xgb_importance = xgb_importance.sort_values('importance', ascending=False)\n",
    "\n",
    "# Plot top 20 most important features\n",
    "plt.figure(figsize=(12, 6))\n",
    "sns.barplot(data=xgb_importance.head(20), x='importance', y='feature')\n",
    "plt.title('Top 20 Most Important Features (XGBoost)')\n",
    "plt.tight_layout()\n",
    "plt.show()"
   ]
  },
  {
   "cell_type": "markdown",
   "metadata": {},
   "source": [
    "### LightGBM Model with Hyperparameter Tuning"
   ]
  },
  {
   "cell_type": "code",
   "execution_count": null,
   "metadata": {},
   "outputs": [],
   "source": [
    "# LightGBM Model Cell\n",
    "print(\"Training LightGBM model...\")\n",
    "lgbm_params = {\n",
    "    'model': [LGBMRegressor(\n",
    "        n_estimators=100,\n",
    "        learning_rate=0.05,\n",
    "        max_depth=4,\n",
    "        num_leaves=16,\n",
    "        min_child_samples=20,\n",
    "        subsample=0.8,\n",
    "        colsample_bytree=0.8,\n",
    "        random_state=42,\n",
    "        n_jobs=-1,\n",
    "        verbose=-1\n",
    "    )]\n",
    "}\n",
    "\n",
    "lgbm_grid = GridSearchCV(\n",
    "    pipeline,\n",
    "    lgbm_params,\n",
    "    cv=3,\n",
    "    scoring='r2',\n",
    "    n_jobs=-1,\n",
    "    verbose=1\n",
    ")\n",
    "\n",
    "lgbm_grid.fit(X_train, y_train)\n",
    "print(f\"Best LightGBM parameters: {lgbm_grid.best_params_}\")\n",
    "print(f\"Best LightGBM cross-validation score: {lgbm_grid.best_score_:.3f}\")\n",
    "\n",
    "# Evaluate on test set\n",
    "lgbm_pred = lgbm_grid.predict(X_test)\n",
    "print(f\"LightGBM test set R2 score: {r2_score(y_test, lgbm_pred):.3f}\")\n",
    "print(f\"LightGBM test set RMSE: {np.sqrt(mean_squared_error(y_test, lgbm_pred)):.3f}\")\n",
    "\n",
    "# Feature importance\n",
    "lgbm_importance = pd.DataFrame({\n",
    "    'feature': X.columns,\n",
    "    'importance': lgbm_grid.best_estimator_.named_steps['model'].feature_importances_\n",
    "})\n",
    "lgbm_importance = lgbm_importance.sort_values('importance', ascending=False)\n",
    "\n",
    "# Plot top 20 most important features\n",
    "plt.figure(figsize=(12, 6))\n",
    "sns.barplot(data=lgbm_importance.head(20), x='importance', y='feature')\n",
    "plt.title('Top 20 Most Important Features (LightGBM)')\n",
    "plt.tight_layout()\n",
    "plt.show()"
   ]
  },
  {
   "cell_type": "markdown",
   "metadata": {},
   "source": [
    "### Neural Network Model with Hyperparameter Tuning"
   ]
  },
  {
   "cell_type": "code",
   "execution_count": null,
   "metadata": {},
   "outputs": [],
   "source": [
    "# Neural Network Model Cell\n",
    "print(\"Training Neural Network model...\")\n",
    "mlp_params = {\n",
    "    'model': [MLPRegressor(\n",
    "        hidden_layer_sizes=(100,),\n",
    "        learning_rate='constant',\n",
    "        max_iter=200,\n",
    "        activation='relu',\n",
    "        solver='adam',\n",
    "        random_state=42,\n",
    "        verbose=True\n",
    "    )]\n",
    "}\n",
    "\n",
    "mlp_grid = GridSearchCV(\n",
    "    pipeline,\n",
    "    mlp_params,\n",
    "    cv=3,\n",
    "    scoring='r2',\n",
    "    n_jobs=-1,\n",
    "    verbose=1\n",
    ")\n",
    "\n",
    "mlp_grid.fit(X_train, y_train)\n",
    "print(f\"Best Neural Network parameters: {mlp_grid.best_params_}\")\n",
    "print(f\"Best Neural Network cross-validation score: {mlp_grid.best_score_:.3f}\")\n",
    "\n",
    "# Evaluate on test set\n",
    "mlp_pred = mlp_grid.predict(X_test)\n",
    "print(f\"Neural Network test set R2 score: {r2_score(y_test, mlp_pred):.3f}\")\n",
    "print(f\"Neural Network test set RMSE: {np.sqrt(mean_squared_error(y_test, mlp_pred)):.3f}\")"
   ]
  },
  {
   "cell_type": "markdown",
   "metadata": {},
   "source": [
    "### Model Comparison and Ensemble"
   ]
  },
  {
   "cell_type": "code",
   "execution_count": null,
   "metadata": {},
   "outputs": [],
   "source": [
    "# Compare model performances\n",
    "models = {\n",
    "    'XGBoost': xgb_pred,\n",
    "    'LightGBM': lgb_pred,\n",
    "    'Neural Network': nn_pred\n",
    "}\n",
    "\n",
    "# Calculate metrics for each model\n",
    "results = pd.DataFrame({\n",
    "    'Model': [],\n",
    "    'R2 Score': [],\n",
    "    'RMSE': []\n",
    "})\n",
    "\n",
    "for name, pred in models.items():\n",
    "    results = results.append({\n",
    "        'Model': name,\n",
    "        'R2 Score': r2_score(y_test, pred),\n",
    "        'RMSE': np.sqrt(mean_squared_error(y_test, pred))\n",
    "    }, ignore_index=True)\n",
    "\n",
    "# Display results\n",
    "print(\"Model Comparison:\")\n",
    "print(results.sort_values('R2 Score', ascending=False))\n",
    "\n",
    "# Create ensemble prediction (simple average)\n",
    "ensemble_pred = np.mean([xgb_pred, lgb_pred, nn_pred], axis=0)\n",
    "print(f\"\\nEnsemble Model R2 Score: {r2_score(y_test, ensemble_pred):.3f}\")\n",
    "print(f\"Ensemble Model RMSE: {np.sqrt(mean_squared_error(y_test, ensemble_pred)):.3f}\")\n",
    "\n",
    "# Plot actual vs predicted values for the best model\n",
    "best_model = results.loc[results['R2 Score'].idxmax(), 'Model']\n",
    "best_pred = models[best_model]\n",
    "\n",
    "plt.figure(figsize=(10, 6))\n",
    "plt.scatter(y_test, best_pred, alpha=0.5)\n",
    "plt.plot([y_test.min(), y_test.max()], [y_test.min(), y_test.max()], 'r--')\n",
    "plt.xlabel('Actual Ratings')\n",
    "plt.ylabel('Predicted Ratings')\n",
    "plt.title(f'Actual vs Predicted Ratings ({best_model})')\n",
    "plt.tight_layout()\n",
    "plt.show()"
   ]
  },
  {
   "cell_type": "markdown",
   "metadata": {},
   "source": [
    "### Feature Importance Analysis"
   ]
  },
  {
   "cell_type": "code",
   "execution_count": null,
   "metadata": {},
   "outputs": [],
   "source": [
    "# Get feature importance from the best model\n",
    "if best_model in ['XGBoost', 'LightGBM']:\n",
    "    best_model_obj = xgb_grid if best_model == 'XGBoost' else lgb_grid\n",
    "    feature_importance = pd.DataFrame({\n",
    "        'feature': X.columns,\n",
    "        'importance': best_model_obj.best_estimator_.named_steps['model'].feature_importances_\n",
    "    })\n",
    "    \n",
    "    # Plot feature importance\n",
    "    plt.figure(figsize=(12, 6))\n",
    "    sns.barplot(data=feature_importance.sort_values('importance', ascending=False).head(20),\n",
    "                x='importance', y='feature')\n",
    "    plt.title(f'Top 20 Most Important Features ({best_model})')\n",
    "    plt.tight_layout()\n",
    "    plt.show()"
   ]
  }
 ],
 "metadata": {
  "kernelspec": {
   "display_name": "Python 3",
   "language": "python",
   "name": "python3"
  },
  "language_info": {
   "codemirror_mode": {
    "name": "ipython",
    "version": 3
   },
   "file_extension": ".py",
   "mimetype": "text/x-python",
   "name": "python",
   "nbconvert_exporter": "python",
   "pygments_lexer": "ipython3",
   "version": "3.8.0"
  }
 },
 "nbformat": 4,
 "nbformat_minor": 4
}
